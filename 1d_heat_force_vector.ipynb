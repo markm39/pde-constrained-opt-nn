{
  "nbformat": 4,
  "nbformat_minor": 0,
  "metadata": {
    "colab": {
      "provenance": [],
      "gpuType": "A100"
    },
    "kernelspec": {
      "name": "python3",
      "display_name": "Python 3"
    },
    "language_info": {
      "name": "python"
    },
    "accelerator": "GPU"
  },
  "cells": [
    {
      "cell_type": "code",
      "source": [
        "import math\n",
        "import jax\n",
        "import jax.numpy as jnp\n",
        "from jax import jit, value_and_grad, lax\n",
        "import jax.scipy.linalg as jsp\n",
        "\n",
        "import flax.linen as nn\n",
        "from flax.training import train_state\n",
        "import optax\n",
        "\n",
        "import matplotlib.pyplot as plt\n",
        "\n",
        "jax.config.update(\"jax_enable_x64\", True)\n"
      ],
      "metadata": {
        "id": "uvBuuxb5M9qj"
      },
      "execution_count": 15,
      "outputs": []
    },
    {
      "cell_type": "markdown",
      "source": [
        "## Grid Setup and Linear Solver\n",
        "\n",
        "This code cell defines functions for setting up the spatial and temporal grids for a 1D problem and for solving linear systems using Cholesky decomposition, which is a numerical method often used in solving discretized partial differential equations.\n",
        "\n",
        "The `setup_grid` function discretizes a spatial domain $[0, 1]$ and a temporal domain $[0, T]$.\n",
        "\n",
        "- The spatial domain is discretized into $N_x = nh-1$ interior points, with a spatial step size of $h = \\frac{1}{nh}$. The interior grid points are $x_i = i h$ for $i = 1, \\dots, N_x$.\n",
        "- The temporal domain is discretized into $nk$ steps, with a temporal step size of $k = \\frac{T}{nk}$. The time points are $t_j = j k$ for $j = 1, \\dots, nk$.\n",
        "\n",
        "The function constructs a matrix $A$ which arises from the finite difference discretization of a spatial second derivative term, combined with a term from the temporal discretization (like in an implicit Euler scheme). For a standard 1D diffusion term $\\frac{\\partial^2 u}{\\partial x^2}$, the discretized operator on the interior points results in a tridiagonal matrix. The matrix $K_h$ represents this spatial discretization:\n",
        "\n",
        "$K_h = \\frac{1}{h^2} \\begin{pmatrix}\n",
        "2 & -1 & 0 & \\dots \\\\\n",
        "-1 & 2 & -1 & \\dots \\\\\n",
        "0 & -1 & 2 & \\dots \\\\\n",
        "\\vdots & \\vdots & \\vdots & \\ddots\n",
        "\\end{pmatrix}$\n",
        "\n",
        "The matrix $A$ is then formed as $A = \\frac{1}{k}I + K_h$, where $I$ is the identity matrix. This matrix $A$ is symmetric and positive definite, which allows for the use of the Cholesky decomposition.\n",
        "\n",
        "The Cholesky decomposition of a symmetric positive definite matrix $A$ is $A = L L^T$, where $L$ is a lower triangular matrix. The `chol_solve` function solves the linear system $A u = b$ by first solving $L y = b$ for $y$ (forward substitution) and then solving $L^T u = y$ for $u$ (backward substitution)."
      ],
      "metadata": {
        "id": "98q0yWvt3GXq"
      }
    },
    {
      "cell_type": "code",
      "source": [
        "def setup_grid(nh: int, nk: int, T: float = 1.0):\n",
        "    \"\"\"\n",
        "    Returns a dict g with array leaves:\n",
        "      g['x'] (Nx,), g['t'] (nk,), g['k'], g['h'], g['T'],\n",
        "      g['Kh'] (Nx,Nx), g['A'] (Nx,Nx), g['L'] (chol of A)\n",
        "    Dirichlet at x=0,1 ⇒ interior Nx = nh-1.\n",
        "    \"\"\"\n",
        "    Nx = nh - 1\n",
        "    h  = 1.0 / nh\n",
        "    k  = T / nk\n",
        "    x  = jnp.linspace(h, 1.0 - h, Nx)\n",
        "    t  = jnp.linspace(k, T, nk)\n",
        "\n",
        "    main =  2.0 / h**2 * jnp.ones((Nx,))\n",
        "    off  = -1.0 / h**2 * jnp.ones((Nx-1,))\n",
        "    Kh   = jnp.diag(main) + jnp.diag(off, 1) + jnp.diag(off, -1)\n",
        "\n",
        "    A = (1.0 / k) * jnp.eye(Nx) + Kh\n",
        "    L = jnp.linalg.cholesky(A)  # lower-triangular\n",
        "\n",
        "    g = dict(nh=nh, nk=nk, Nx=Nx, T=T, h=h, k=k, x=x, t=t, Kh=Kh, A=A, L=L)\n",
        "    return g\n",
        "\n",
        "def chol_solve(L, b):\n",
        "    \"\"\"Solve A u = b given lower-triangular Cholesky L of A (A = L L^T).\"\"\"\n",
        "    y = jsp.solve_triangular(L, b, lower=True)\n",
        "    u = jsp.solve_triangular(L.T, y, lower=False)\n",
        "    return u\n"
      ],
      "metadata": {
        "id": "xxPwblxJM-9C"
      },
      "execution_count": 16,
      "outputs": []
    },
    {
      "cell_type": "markdown",
      "source": [
        "## Synthetic Truth Generation\n",
        "\n",
        "This code cell implements the `synth_truth_U` function, which generates synthetic \"true\" solutions to the partial differential equation based on known analytical solutions for specific forcing functions and boundary/initial conditions. This synthetic truth serves as the target data for training the neural networks.\n",
        "\n",
        "The function supports different `truth_case` scenarios, each corresponding to a different analytical solution:\n",
        "\n",
        "- **'oscillatory'**: The analytical solution is $u(x, t) = \\sin(\\pi x) \\cos(\\pi t)$. The corresponding forcing function $f(x, t)$ is derived by substituting $u(x,t)$ into the PDE:\n",
        "  $$ \\frac{\\partial u}{\\partial t} - \\frac{\\partial^2 u}{\\partial x^2} = f(x, t) $$\n",
        "  $$ \\frac{\\partial}{\\partial t}(\\sin(\\pi x) \\cos(\\pi t)) - \\frac{\\partial^2}{\\partial x^2}(\\sin(\\pi x) \\cos(\\pi t)) = f(x, t) $$\n",
        "  $$ -\\pi \\sin(\\pi x) \\sin(\\pi t) - (-\\pi^2 \\sin(\\pi x) \\cos(\\pi t)) = f(x, t) $$\n",
        "  $$ f(x, t) = \\pi^2 \\sin(\\pi x) \\cos(\\pi t) - \\pi \\sin(\\pi x) \\sin(\\pi t) $$\n",
        "  The initial condition is $u(x, 0) = \\sin(\\pi x)$.\n",
        "\n",
        "- **'decaying'**: The analytical solution is $u(x, t) = e^{-t} \\sin(\\pi x)$. The corresponding forcing function $f(x, t)$ is derived similarly:\n",
        "  $$ \\frac{\\partial}{\\partial t}(e^{-t} \\sin(\\pi x)) - \\frac{\\partial^2}{\\partial x^2}(e^{-t} \\sin(\\pi x)) = f(x, t) $$\n",
        "  $$ -e^{-t} \\sin(\\pi x) - (- \\pi^2 e^{-t} \\sin(\\pi x)) = f(x, t) $$\n",
        "  $$ f(x, t) = (\\pi^2 - 1) e^{-t} \\sin(\\pi x) $$\n",
        "  The initial condition is $u(x, 0) = \\sin(\\pi x)$.\n",
        "\n",
        "The function then uses the `lax.scan` operation to simulate the time evolution of the solution. Starting from the true initial condition $u_0$, it iteratively solves the linear system $A u_{n+1} = \\frac{1}{k} u_n + f_{n+1}$ at each time step $t_{n+1}$, where $f_{n+1}$ is the true forcing function at that time. This process generates the synthetic truth solution $U_{true}$ over all time steps."
      ],
      "metadata": {
        "id": "x0LAb-oT3SjM"
      }
    },
    {
      "cell_type": "code",
      "source": [
        "def synth_truth_U(g, truth_case='oscillatory'):\n",
        "    \"\"\"\n",
        "    Generates synthetic truth U based on different analytical solutions.\n",
        "\n",
        "    Args:\n",
        "        g: Dictionary containing grid information.\n",
        "        truth_case: String specifying the synthetic truth case.\n",
        "                    'oscillatory': u(x,t) = sin(pi x) cos(pi t)\n",
        "                    'decaying': u(x,t) = exp(-t) * sin(pi x)\n",
        "\n",
        "    Returns:\n",
        "        U: (nk,Nx) array of the synthetic truth solution.\n",
        "        u0_true: (Nx,) array of the true initial condition.\n",
        "    \"\"\"\n",
        "    x, t, k = g['x'], g['t'], g['k']\n",
        "\n",
        "    if truth_case == 'oscillatory':\n",
        "        u0_true = jnp.sin(jnp.pi * x)\n",
        "        def f_true_t(tval):\n",
        "            return (-jnp.pi * jnp.sin(jnp.pi * tval) + (jnp.pi**2) * jnp.cos(jnp.pi * tval)) * jnp.sin(jnp.pi * x)\n",
        "    elif truth_case == 'decaying':\n",
        "        u0_true = jnp.sin(jnp.pi * x)\n",
        "        def f_true_t(tval):\n",
        "            return (jnp.pi**2 - 1.0) * jnp.exp(-tval) * jnp.sin(jnp.pi * x)\n",
        "    else:\n",
        "        raise ValueError(f\"Unknown truth_case: {truth_case}\")\n",
        "\n",
        "\n",
        "    def step(u_prev, t_now):\n",
        "        f_now = f_true_t(t_now)\n",
        "        rhs   = u_prev / k + f_now\n",
        "        u_next = chol_solve(g['L'], rhs)\n",
        "        return u_next, u_next\n",
        "\n",
        "    U = lax.scan(step, u0_true, t)[1]  # (nk,Nx)\n",
        "    return U, u0_true"
      ],
      "metadata": {
        "id": "VtkT0w3xNK9t"
      },
      "execution_count": 17,
      "outputs": []
    },
    {
      "cell_type": "markdown",
      "source": [
        "## Neural Network Models and Training State\n",
        "\n",
        "This code cell defines the neural network architectures used to model the forcing function $f(x,t)$ and the initial condition $u_0(x)$, and sets up the training state using Flax and Optax.\n",
        "\n",
        "- **MLP2x256Tanh**: This is a basic Multi-Layer Perceptron (MLP) with two hidden layers, each having 256 neurons, and using the hyperbolic tangent (`tanh`) activation function. It serves as a building block for the other networks. The output layer has a tiny initialization scale and zero bias initialization.\n",
        "\n",
        "- **ForcingNet**: This module wraps the `MLP2x256Tanh` to take a 2-dimensional input $(x, t)$ and output a scalar value representing the predicted forcing function $f(x, t)$. The input coordinates $x$ and $t$ are expected to be normalized, typically to the range $[-1, 1]$.\n",
        "\n",
        "- **ICNet**: This module wraps the `MLP2x256Tanh` to take a 1-dimensional input $(x)$ and output a scalar value representing the predicted initial condition $u_0(x)$. The input coordinate $x$ is expected to be normalized.\n",
        "\n",
        "- **TrainState**: This is a standard Flax utility class extended to hold the model's parameters, the optimizer state, and the current training step.\n",
        "\n",
        "The `create_state` function initializes the model parameters using a provided PRNG key and sets up the Optax optimizer with a learning rate schedule. An exponential decay schedule is used for the learning rate, starting with `lr` and decaying by a factor of 0.9 over the specified number of `epochs`. Gradient clipping with a global norm of 1.0 is also applied."
      ],
      "metadata": {
        "id": "ZqybAAiX3gjg"
      }
    },
    {
      "cell_type": "code",
      "source": [
        "def tiny_init(scale=1e-3):\n",
        "    def init(rng, shape, dtype=jnp.float64):\n",
        "        return scale * jax.random.normal(rng, shape, dtype)\n",
        "    return init\n",
        "\n",
        "class MLP2x256Tanh(nn.Module):\n",
        "    in_dim: int\n",
        "    out_dim: int\n",
        "    @nn.compact\n",
        "    def __call__(self, x):\n",
        "        x = nn.Dense(256)(x); x = nn.tanh(x)\n",
        "        x = nn.Dense(256)(x); x = nn.tanh(x)\n",
        "        x = nn.Dense(self.out_dim, kernel_init=tiny_init(1e-3), bias_init=nn.initializers.zeros)(x)\n",
        "        return x\n",
        "\n",
        "class ForcingNet(nn.Module):   # (x,t) -> f\n",
        "    @nn.compact\n",
        "    def __call__(self, xt):\n",
        "        return MLP2x256Tanh(in_dim=2, out_dim=1)(xt).squeeze(-1)\n",
        "\n",
        "class ICNet(nn.Module):        # x -> u0\n",
        "    @nn.compact\n",
        "    def __call__(self, x):\n",
        "        return MLP2x256Tanh(in_dim=1, out_dim=1)(x).squeeze(-1)\n",
        "\n",
        "class TrainState(train_state.TrainState):\n",
        "    pass\n",
        "\n",
        "def create_state(rng, model, in_dim, lr, epochs):\n",
        "    dummy = jnp.zeros((1, in_dim))\n",
        "    params = model.init(rng, dummy)\n",
        "\n",
        "    # Add a learning rate schedule\n",
        "    lr_schedule = optax.exponential_decay(\n",
        "        init_value=lr,\n",
        "        transition_steps=epochs, # Decay over the total number of epochs\n",
        "        decay_rate=0.9 # Decay rate\n",
        "    )\n",
        "\n",
        "    tx = optax.chain(\n",
        "        optax.clip_by_global_norm(1.0),  # grad clip\n",
        "        optax.adam(lr_schedule) # Use the learning rate schedule\n",
        "    )\n",
        "    return TrainState(step=0, apply_fn=model.apply, params=params, tx=tx, opt_state=tx.init(params))"
      ],
      "metadata": {
        "id": "MV-LkgodNRKd"
      },
      "execution_count": 18,
      "outputs": []
    },
    {
      "cell_type": "markdown",
      "source": [
        "## Forward Pass with Neural Networks\n",
        "\n",
        "This code cell implements the `forward_with_nn` function, which performs the forward pass of the neural network model. This involves using the trained (or currently training) `ForcingNet` and `ICNet` to predict the forcing function $f(x,t)$ and the initial condition $u_0(x)$, respectively.\n",
        "\n",
        "The process is as follows:\n",
        "1. **Input Normalization**: The spatial grid points $x$ and temporal grid points $t$ are normalized to the range $[-1, 1]$. This is a common practice for improving neural network training.\n",
        "2. **Initial Condition Prediction**: The `ICNet` predicts the initial condition $u_0^{pred}(x)$ at the spatial grid points.\n",
        "3. **Time Evolution Simulation**: Similar to the `synth_truth_U` function, `lax.scan` is used to simulate the time evolution of the PDE solution. However, instead of using the true forcing function, the `ForcingNet` predicts the forcing $f^{pred}(x, t)$ at each time step $t_n$ and spatial location $x_i$.\n",
        "4. **Solving the Linear System**: At each time step $t_n$, the predicted initial condition $u_n^{pred}$ from the previous step and the predicted forcing $f^{pred}(x, t_n)$ are used to form the right-hand side of the linear system:\n",
        "   $$ A u_{n+1}^{pred} = \\frac{1}{k} u_n^{pred} + f^{pred}(x, t_{n+1}) $$\n",
        "   This system is solved for $u_{n+1}^{pred}$ using the `chol_solve` function.\n",
        "5. **Output**: The function returns the predicted solution $U^{pred}(x, t)$ over all time steps and spatial points, the predicted forcing function $F^{pred}(x, t)$, and the predicted initial condition $u_0^{pred}(x)$."
      ],
      "metadata": {
        "id": "4glVo96o3rNg"
      }
    },
    {
      "cell_type": "code",
      "source": [
        "def forward_with_nn(state_f: TrainState, state_u: TrainState, g: dict):\n",
        "    \"\"\"\n",
        "    Returns:\n",
        "      U_pred: (nk,Nx), F_pred: (nk,Nx), u0_pred: (Nx,)\n",
        "    \"\"\"\n",
        "    # normalize to [-1,1]\n",
        "    x_norm = 2.0 * g['x'] - 1.0              # (Nx,)\n",
        "    t_norm = 2.0 * g['t'] / g['T'] - 1.0     # (nk,)\n",
        "\n",
        "    u0_pred_with_dim = state_u.apply_fn(state_u.params, x_norm[:, None])\n",
        "    u0_pred = u0_pred_with_dim\n",
        "\n",
        "    def step(u_prev, t_n):\n",
        "        xt = jnp.stack([x_norm, jnp.full_like(x_norm, t_n)], axis=1)  # (Nx,2)\n",
        "        f_n_with_dim = state_f.apply_fn(state_f.params, xt)\n",
        "        f_n = f_n_with_dim\n",
        "        rhs = u_prev / g['k'] + f_n\n",
        "        u_next = chol_solve(g['L'], rhs)\n",
        "        return u_next, (u_next, f_n)\n",
        "\n",
        "    _, (U_seq, F_seq) = lax.scan(step, u0_pred, t_norm)  # (nk,Nx), (nk,Nx)\n",
        "    return U_seq, F_seq, u0_pred"
      ],
      "metadata": {
        "id": "jjG_-0XZNUPa"
      },
      "execution_count": 19,
      "outputs": []
    },
    {
      "cell_type": "markdown",
      "metadata": {
        "id": "9b573930"
      },
      "source": [
        "## Loss Function\n",
        "This code cell defines the `compute_loss` function, which calculates the objective function minimized during training. The total loss $L$ is a sum of several terms:\n",
        "\n",
        "$$ L = L_{misfit} + L_{regF} + L_{regIC} + L_{smooth} $$\n",
        "\n",
        "1.  **Misfit Loss ($L_{misfit}$)**: Measures how well the predicted solution ($U^{pred}$) matches the true data ($U_{true}$). It's the mean squared error: $L_{misfit} = \\text{mean}((U^{pred} - U_{true})^2)$.\n",
        "2.  **Forcing Regularization ($L_{regF}$)**: Penalizes the magnitude of the predicted forcing function ($F^{pred}$). It's an L2 penalty: $L_{regF} = \\alpha \\cdot \\text{mean}((F^{pred})^2)$.\n",
        "3.  **Initial Condition Regularization ($L_{regIC}$)**: Penalizes the magnitude of the predicted initial condition ($u_0^{pred}$). It's an L2 penalty: $L_{regIC} = \\beta_{ic} \\cdot \\text{mean}((u_0^{pred})^2)$.\n",
        "4.  **Smoothness Regularization ($L_{smooth}$)**: Encourages the predicted forcing function ($F^{pred}$) to be smooth in space ($x$) and time ($t$). This includes penalties on spatial differences ($L_{smooth,x}$) and temporal differences ($L_{smooth,t}$), weighted by $\\gamma_x$ and $\\gamma_t$ respectively.\n",
        "\n",
        "The function returns the total loss $L$ and a dictionary `metrics` with the values of each component."
      ]
    },
    {
      "cell_type": "code",
      "source": [
        "def compute_loss(state_f: TrainState, state_u: TrainState, g: dict, U_true: jnp.ndarray, hp: dict):\n",
        "    \"\"\"\n",
        "    hp = {'alpha': ..., 'beta_ic': ..., 'gamma_x': ..., 'gamma_t': ...}  # jnp scalars\n",
        "    \"\"\"\n",
        "    U_pred, F_pred, u0_pred = forward_with_nn(state_f, state_u, g)\n",
        "\n",
        "    Nu = U_true.size\n",
        "    misfit = jnp.sum((U_pred - U_true)**2) / Nu\n",
        "    regF   = hp['alpha']   * jnp.mean(F_pred**2)\n",
        "    regIC  = hp['beta_ic'] * jnp.mean(u0_pred**2)\n",
        "\n",
        "    smooth_x = lax.cond(hp['gamma_x'] > 0,\n",
        "                        lambda _: hp['gamma_x'] * jnp.mean((F_pred[:, 1:] - F_pred[:, :-1])**2),\n",
        "                        lambda _: jnp.array(0.0),\n",
        "                        None)\n",
        "\n",
        "    smooth_t = lax.cond(hp['gamma_t'] > 0,\n",
        "                        lambda _: hp['gamma_t'] * jnp.mean((F_pred[1:, :] - F_pred[:-1, :])**2),\n",
        "                        lambda _: jnp.array(0.0),\n",
        "                        None)\n",
        "\n",
        "    smooth = smooth_x + smooth_t\n",
        "\n",
        "    loss = misfit + regF + regIC + smooth\n",
        "    metrics = dict(misfit=misfit, regF=regF, regIC=regIC, smooth=smooth)\n",
        "    return loss, metrics"
      ],
      "metadata": {
        "id": "3JBf-BSxNbMg"
      },
      "execution_count": 20,
      "outputs": []
    },
    {
      "cell_type": "markdown",
      "source": [
        "## Training Step\n",
        "\n",
        "This code cell defines the `train_step` function, which performs a single step of the optimization process. This function is JIT-compiled using `@jit` for improved performance.\n",
        "\n",
        "The steps involved are:\n",
        "1. **Compute Loss and Gradients**: It uses `jax.value_and_grad` to compute both the total loss (using the `compute_loss` function) and the gradients of the loss with respect to the parameters of both the `ForcingNet` (`state_f.params`) and the `ICNet` (`state_u.params`). The `argnums=(0,1)` specifies that gradients should be computed for the first two arguments of the wrapped function (which are the parameters of the two states). `has_aux=True` indicates that the wrapped function (`compute_loss`) also returns auxiliary data (the metrics dictionary) in addition to the loss value.\n",
        "2. **Apply Optimizer Updates**: The computed gradients are then used by the Optax optimizer (`state_f.tx` and `state_u.tx`) to calculate the parameter updates. The `update` method takes the gradients, the current optimizer state, and the current parameters.\n",
        "3. **Update Training State**: The calculated updates are applied to the current parameters using `optax.apply_updates` to get the new parameters. The optimizer state is also updated. These new parameters and optimizer states, along with the incremented step count, are used to create new `TrainState` objects for both networks.\n",
        "4. **Return Updated States and Metrics**: The function returns the new training states for the forcing and IC networks, the total loss value ($L$), and the metrics dictionary ($M$)."
      ],
      "metadata": {
        "id": "cazg2gM84I72"
      }
    },
    {
      "cell_type": "code",
      "source": [
        "@jit\n",
        "def train_step(state_f: TrainState, state_u: TrainState, g: dict, U_true: jnp.ndarray, hp: dict):\n",
        "    (L, M), grads = value_and_grad(\n",
        "        lambda pf, pu: compute_loss(\n",
        "            state_f.replace(params=pf), state_u.replace(params=pu), g, U_true, hp\n",
        "        ),\n",
        "        argnums=(0,1), has_aux=True\n",
        "    )(state_f.params, state_u.params)\n",
        "\n",
        "    updates_f, opt_state_f = state_f.tx.update(grads[0], state_f.opt_state, state_f.params)\n",
        "    updates_u, opt_state_u = state_u.tx.update(grads[1], state_u.opt_state, state_u.params)\n",
        "\n",
        "    new_state_f = state_f.replace(step=state_f.step+1,\n",
        "                                  params=optax.apply_updates(state_f.params, updates_f),\n",
        "                                  opt_state=opt_state_f)\n",
        "    new_state_u = state_u.replace(step=state_u.step+1,\n",
        "                                  params=optax.apply_updates(state_u.params, updates_u),\n",
        "                                  opt_state=opt_state_u)\n",
        "    return new_state_f, new_state_u, L, M"
      ],
      "metadata": {
        "id": "F0QG1f3DNfmf"
      },
      "execution_count": 21,
      "outputs": []
    },
    {
      "cell_type": "markdown",
      "source": [
        "## Training Setup\n",
        "\n",
        "This code cell sets up all the necessary components before starting the training loop.\n",
        "\n",
        "1. **Grid Definition**: The spatial and temporal grid parameters (`nh`, `nk`, `T`) are defined, matching the setup used in the original paper or desired configuration. The `setup_grid` function is called to create the grid dictionary `g` containing grid points, step sizes, and the matrix $A$ and its Cholesky decomposition $L$.\n",
        "\n",
        "2. **Synthetic Truth Generation**: The `synth_truth_U` function is used to generate the synthetic \"true\" solution $U_{true}$ and initial condition $u_{0,true}$. This serves as the target data for training. The `truth_case` parameter determines which analytical solution is used ('oscillatory' or 'decaying'). In a real-world scenario, $U_{true}$ would be replaced by your observed data.\n",
        "\n",
        "3. **Model and State Initialization**: JAX PRNG keys are created for reproducibility. Instances of the `ForcingNet` and `ICNet` models are created. The `create_state` function is called for each model to initialize their parameters, set up the Optax optimizer with the specified learning rate (`lr`) and number of epochs, and create the `TrainState` objects (`state_f` and `state_u`).\n",
        "\n",
        "4. **Hyperparameter Definition**: A dictionary `hp` is created to store the hyperparameters for the loss function. These hyperparameters control the weighting of the regularization terms ($\\alpha$, $\\beta_{ic}$, $\\gamma_x$, $\\gamma_t$). They are explicitly cast to JAX arrays (`jnp.array`) to ensure they are treated as JAX PyTrees, compatible with JIT compilation and automatic differentiation."
      ],
      "metadata": {
        "id": "fBEagaQU4RO2"
      }
    },
    {
      "cell_type": "code",
      "source": [
        "# Grid like the paper\n",
        "nh, nk, T = 150, 50, 1.0\n",
        "g = setup_grid(nh, nk, T)\n",
        "\n",
        "# Synthetic target (replace U_true with your measured data, shape (nk,Nx), if available)\n",
        "# U_true, u0_true = synth_truth_U(g, truth_case='oscillatory') # Original oscillatory case\n",
        "U_true, u0_true = synth_truth_U(g, truth_case='decaying') # New decaying case\n",
        "\n",
        "# Models & states\n",
        "key = jax.random.PRNGKey(0)\n",
        "k1, k2 = jax.random.split(key)\n",
        "forcing_net = ForcingNet()\n",
        "ic_net      = ICNet()\n",
        "state_f = create_state(k1, forcing_net, in_dim=2, lr=3e-3, epochs=2000) # Use 2000 epochs as before\n",
        "state_u = create_state(k2, ic_net,      in_dim=1, lr=3e-3, epochs=2000) # Use 2000 epochs as before\n",
        "\n",
        "# Hyperparameters as JAX scalars (PyTree-friendly)\n",
        "hp = {\n",
        "    'alpha'  : jnp.array(1e-3),  # control magnitude penalty (MSE-scaled)\n",
        "    'beta_ic': jnp.array(1e-4),  # small prior on u0\n",
        "    'gamma_x': jnp.array(1e-4),  # smoothness in x (set 0 to disable)\n",
        "    'gamma_t': jnp.array(1e-4),  # smoothness in t (set 0 to disable)\n",
        "}"
      ],
      "metadata": {
        "id": "RFm71E2mNiaL"
      },
      "execution_count": 22,
      "outputs": []
    },
    {
      "cell_type": "markdown",
      "source": [
        "## Training Loop\n",
        "\n",
        "This code cell implements the main training loop. It iterates for a fixed number of `epochs`, performing a training step in each iteration.\n",
        "\n",
        "In each epoch:\n",
        "1. The `train_step` function is called with the current training states (`state_f`, `state_u`), the grid information (`g`), the true solution data (`U_true`), and the hyperparameters (`hp`).\n",
        "2. `train_step` computes the loss and gradients, updates the model parameters using the optimizer, and returns the updated states, the total loss ($L$), and the metrics dictionary ($M$).\n",
        "3. The updated states are assigned back to `state_f` and `state_u`.\n",
        "4. The loss and metric values are optionally printed every 50 epochs to monitor training progress.\n",
        "5. The loss and metric values are appended to the `hist` dictionary to keep a record of the training history.\n",
        "\n",
        "This iterative process allows the model parameters to be adjusted based on the gradients of the loss function, gradually minimizing the difference between the predicted and true solutions while satisfying the regularization constraints."
      ],
      "metadata": {
        "id": "w-vCVhvZ4ay5"
      }
    },
    {
      "cell_type": "code",
      "source": [
        "epochs = 2000\n",
        "hist = dict(L=[], misfit=[], regF=[], regIC=[], smooth=[])\n",
        "\n",
        "for ep in range(epochs):\n",
        "    state_f, state_u, L, M = train_step(state_f, state_u, g, U_true, hp)\n",
        "    if ep % 50 == 0:\n",
        "        print(f\"ep {ep:4d} | L={float(L):.6f} | mis={float(M['misfit']):.6f} | \"\n",
        "              f\"regF={float(M['regF']):.6f} | sm={float(M['smooth']):.6f}\")\n",
        "    hist['L'].append(float(L))\n",
        "    for k in ('misfit','regF','regIC','smooth'):\n",
        "        hist[k].append(float(M[k]))\n"
      ],
      "metadata": {
        "colab": {
          "base_uri": "https://localhost:8080/"
        },
        "id": "YdnFnkEiNnfS",
        "outputId": "919cfd95-57f6-4d95-bf27-ced4738e9746"
      },
      "execution_count": 23,
      "outputs": [
        {
          "output_type": "stream",
          "name": "stdout",
          "text": [
            "ep    0 | L=0.213777 | mis=0.213777 | regF=0.000000 | sm=0.000000\n",
            "ep   50 | L=0.016256 | mis=0.002658 | regF=0.013515 | sm=0.000000\n",
            "ep  100 | L=0.014821 | mis=0.001944 | regF=0.012804 | sm=0.000001\n",
            "ep  150 | L=0.014720 | mis=0.001950 | regF=0.012696 | sm=0.000001\n",
            "ep  200 | L=0.014674 | mis=0.001940 | regF=0.012660 | sm=0.000001\n",
            "ep  250 | L=0.014639 | mis=0.001931 | regF=0.012633 | sm=0.000001\n",
            "ep  300 | L=0.014609 | mis=0.001925 | regF=0.012609 | sm=0.000001\n",
            "ep  350 | L=0.014579 | mis=0.001917 | regF=0.012586 | sm=0.000001\n",
            "ep  400 | L=0.014546 | mis=0.001909 | regF=0.012561 | sm=0.000001\n",
            "ep  450 | L=0.014512 | mis=0.001901 | regF=0.012534 | sm=0.000001\n",
            "ep  500 | L=0.014477 | mis=0.001894 | regF=0.012507 | sm=0.000001\n",
            "ep  550 | L=0.014442 | mis=0.001887 | regF=0.012478 | sm=0.000001\n",
            "ep  600 | L=0.014407 | mis=0.001882 | regF=0.012447 | sm=0.000001\n",
            "ep  650 | L=0.014371 | mis=0.001878 | regF=0.012415 | sm=0.000001\n",
            "ep  700 | L=0.014333 | mis=0.001875 | regF=0.012379 | sm=0.000001\n",
            "ep  750 | L=0.014290 | mis=0.001875 | regF=0.012336 | sm=0.000001\n",
            "ep  800 | L=0.014245 | mis=0.001874 | regF=0.012291 | sm=0.000001\n",
            "ep  850 | L=0.014222 | mis=0.002012 | regF=0.012128 | sm=0.000001\n",
            "ep  900 | L=0.014164 | mis=0.001871 | regF=0.012211 | sm=0.000001\n",
            "ep  950 | L=0.014197 | mis=0.001632 | regF=0.012481 | sm=0.000001\n",
            "ep 1000 | L=0.014104 | mis=0.001901 | regF=0.012119 | sm=0.000001\n",
            "ep 1050 | L=0.014095 | mis=0.001860 | regF=0.012149 | sm=0.000002\n",
            "ep 1100 | L=0.014160 | mis=0.001453 | regF=0.012621 | sm=0.000002\n",
            "ep 1150 | L=0.014039 | mis=0.001832 | regF=0.012121 | sm=0.000002\n",
            "ep 1200 | L=0.014027 | mis=0.001901 | regF=0.012038 | sm=0.000002\n",
            "ep 1250 | L=0.014030 | mis=0.002128 | regF=0.011815 | sm=0.000002\n",
            "ep 1300 | L=0.013997 | mis=0.001927 | regF=0.011982 | sm=0.000002\n",
            "ep 1350 | L=0.013984 | mis=0.001837 | regF=0.012057 | sm=0.000003\n",
            "ep 1400 | L=0.013973 | mis=0.001866 | regF=0.012018 | sm=0.000003\n",
            "ep 1450 | L=0.014016 | mis=0.001983 | regF=0.011943 | sm=0.000003\n",
            "ep 1500 | L=0.013956 | mis=0.001786 | regF=0.012079 | sm=0.000003\n",
            "ep 1550 | L=0.013944 | mis=0.001859 | regF=0.011994 | sm=0.000003\n",
            "ep 1600 | L=0.013952 | mis=0.001683 | regF=0.012176 | sm=0.000003\n",
            "ep 1650 | L=0.013929 | mis=0.001817 | regF=0.012020 | sm=0.000004\n",
            "ep 1700 | L=0.013921 | mis=0.001823 | regF=0.012006 | sm=0.000004\n",
            "ep 1750 | L=0.013920 | mis=0.001752 | regF=0.012074 | sm=0.000004\n",
            "ep 1800 | L=0.013908 | mis=0.001838 | regF=0.011977 | sm=0.000004\n",
            "ep 1850 | L=0.013972 | mis=0.002109 | regF=0.011770 | sm=0.000004\n",
            "ep 1900 | L=0.013900 | mis=0.001719 | regF=0.012087 | sm=0.000005\n",
            "ep 1950 | L=0.013891 | mis=0.001880 | regF=0.011917 | sm=0.000005\n"
          ]
        }
      ]
    },
    {
      "cell_type": "markdown",
      "source": [
        "%%markdown\n",
        "## Evaluation and Plotting\n",
        "\n",
        "This code cell performs evaluation of the trained model and visualizes the results.\n",
        "\n",
        "1. **Forward Pass with Trained Nets**: The `forward_with_nn` function is called one last time using the final trained parameters (`state_f`, `state_u`) to obtain the predicted solution ($U_{pred}$), predicted forcing ($F_{pred}$), and predicted initial condition ($u_{0,pred}$).\n",
        "\n",
        "2. **Error Calculation**: Various error metrics are calculated to quantify the performance of the trained model:\n",
        "   - Absolute error: The L2 norm of the difference between the predicted and true solutions: $||U_{pred} - U_{true}||_2$.\n",
        "   - Relative error: The absolute error normalized by the L2 norm of the true solution: $\\frac{||U_{pred} - U_{true}||_2}{||U_{true}||_2}$. This gives a percentage error relative to the magnitude of the true solution.\n",
        "   - Initial condition error: The L2 norm of the difference between the predicted and true initial conditions: $||u_{0,pred} - u_{0,true}||_2$.\n",
        "\n",
        "3. **Plotting Loss Curves**: The training history stored in the `hist` dictionary is used to plot the evolution of the total loss and its components (misfit, forcing regularization, smoothness) over the training epochs. A semi-logarithmic scale is used for the y-axis to better visualize the decrease in loss, especially the smaller components.\n",
        "\n",
        "4. **Plotting Recovered Trajectory**: The true and predicted solutions are plotted over time at a specific spatial location (here, $x=0.5$). This allows for a visual comparison of how well the model has captured the temporal dynamics of the solution at a representative point in the domain.\n",
        "\n",
        "These evaluation steps provide both quantitative error measures and qualitative visualizations to assess the effectiveness of the training process and the performance of the learned neural network models."
      ],
      "metadata": {
        "id": "0viQwiFR4gH-"
      }
    },
    {
      "cell_type": "code",
      "source": [
        "# Forward pass with trained nets\n",
        "U_pred, F_pred, u0_pred = forward_with_nn(state_f, state_u, g)\n",
        "\n",
        "# Errors\n",
        "abs_err = float(jnp.linalg.norm(U_pred - U_true))\n",
        "rel_err = abs_err / float(jnp.linalg.norm(U_true))\n",
        "ic_err  = float(jnp.linalg.norm(u0_pred - u0_true))\n",
        "print(f\"\\nAbs error: {abs_err:.6e} | Rel: {100*rel_err:.2f}% | ||u0_pred - u0_true||={ic_err:.6e}\")\n",
        "\n",
        "# Plot loss curves\n",
        "plt.figure(figsize=(12,4))\n",
        "plt.subplot(1,2,1)\n",
        "plt.semilogy(hist['L'], label='total')\n",
        "plt.semilogy(hist['misfit'], label='misfit')\n",
        "plt.semilogy(hist['regF'], label='regF')\n",
        "plt.semilogy(hist['smooth'], label='smooth')\n",
        "plt.legend(); plt.grid(True, alpha=0.3); plt.title(\"Loss history\")\n",
        "\n",
        "# Plot recovered trajectory at x = 1/2\n",
        "ix = int(jnp.argmin(jnp.abs(g['x'] - 0.5)))\n",
        "plt.subplot(1,2,2)\n",
        "plt.plot(g['t'], U_true[:, ix], label='true @ x=0.5')\n",
        "plt.plot(g['t'], U_pred[:, ix], '--', label='recovered @ x=0.5')\n",
        "plt.legend(); plt.grid(True, alpha=0.3); plt.title(\"Recovered solution at x=1/2\")\n",
        "plt.tight_layout(); plt.show()\n"
      ],
      "metadata": {
        "colab": {
          "base_uri": "https://localhost:8080/",
          "height": 312
        },
        "id": "_5USjaZ9NqlA",
        "outputId": "b70e7588-165b-424c-a925-1203c3cf299b"
      },
      "execution_count": 25,
      "outputs": [
        {
          "output_type": "stream",
          "name": "stdout",
          "text": [
            "\n",
            "Abs error: 4.032972e+00 | Rel: 10.11% | ||u0_pred - u0_true||=2.970788e+00\n"
          ]
        },
        {
          "output_type": "display_data",
          "data": {
            "text/plain": [
              "<Figure size 1200x400 with 2 Axes>"
            ],
            "image/png": "[encoded data removed]"
          },
          "metadata": {}
        }
      ]
    }
  ]
}